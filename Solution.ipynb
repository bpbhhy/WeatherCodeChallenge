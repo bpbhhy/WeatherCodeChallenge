{
 "cells": [
  {
   "cell_type": "code",
   "execution_count": 1,
   "id": "searching-spanish",
   "metadata": {},
   "outputs": [
    {
     "data": {
      "text/plain": [
       "Intitializing Scala interpreter ..."
      ]
     },
     "metadata": {},
     "output_type": "display_data"
    },
    {
     "data": {
      "text/plain": [
       "Spark Web UI available at http://192.168.1.24:4040\n",
       "SparkContext available as 'sc' (version = 2.4.7, master = local[*], app id = local-1612838809760)\n",
       "SparkSession available as 'spark'\n"
      ]
     },
     "metadata": {},
     "output_type": "display_data"
    },
    {
     "data": {
      "text/plain": [
       "sqlContext: org.apache.spark.sql.SQLContext = org.apache.spark.sql.SQLContext@7a665db0\n",
       "import org.apache.spark.sql.types._\n"
      ]
     },
     "execution_count": 1,
     "metadata": {},
     "output_type": "execute_result"
    }
   ],
   "source": [
    "// Starting Spark Job\n",
    "val sqlContext = new org.apache.spark.sql.SQLContext(sc)\n",
    "spark.conf.set(\"spark.sql.autoBroadcastJoinThreshold\", -1)\n",
    "\n",
    "import org.apache.spark.sql.types._"
   ]
  },
  {
   "cell_type": "code",
   "execution_count": 2,
   "id": "spiritual-wedding",
   "metadata": {},
   "outputs": [
    {
     "data": {
      "text/plain": [
       "customSchema: org.apache.spark.sql.types.StructType = StructType(StructField(STN---,IntegerType,false), StructField(WBAN,IntegerType,false), StructField(YEARMODA,DateType,false), StructField(TEMP,DoubleType,true), StructField(DEWP,DoubleType,true), StructField(SLP,DoubleType,true), StructField(STP,DoubleType,true), StructField(VISIB,DoubleType,true), StructField(WDSP,DoubleType,true), StructField(MXSPD,DoubleType,true), StructField(GUST,DoubleType,true), StructField(MAX,StringType,true), StructField(MIN,StringType,true), StructField(PRCP,StringType,true), StructField(SNDP,DoubleType,true), StructField(FRSHTT,StringType,false))\n"
      ]
     },
     "execution_count": 2,
     "metadata": {},
     "output_type": "execute_result"
    }
   ],
   "source": [
    "val customSchema = StructType(Array(\n",
    "    StructField(\"STN---\", IntegerType, false),\n",
    "    StructField(\"WBAN\", IntegerType, false),\n",
    "    StructField(\"YEARMODA\", DateType, false),\n",
    "    StructField(\"TEMP\", DoubleType, true),\n",
    "    StructField(\"DEWP\", DoubleType, true),\n",
    "    StructField(\"SLP\", DoubleType, true),\n",
    "    StructField(\"STP\", DoubleType, true),\n",
    "    StructField(\"VISIB\", DoubleType, true),\n",
    "    StructField(\"WDSP\", DoubleType, true),\n",
    "    StructField(\"MXSPD\", DoubleType, true),\n",
    "    StructField(\"GUST\", DoubleType, true),\n",
    "    StructField(\"MAX\", StringType, true),\n",
    "    StructField(\"MIN\", StringType, true),\n",
    "    StructField(\"PRCP\", StringType, true),\n",
    "    StructField(\"SNDP\", DoubleType, true),\n",
    "    StructField(\"FRSHTT\", StringType, false))\n",
    ")"
   ]
  },
  {
   "cell_type": "code",
   "execution_count": 3,
   "id": "concerned-ordering",
   "metadata": {},
   "outputs": [
    {
     "data": {
      "text/plain": [
       "weather: org.apache.spark.sql.DataFrame = [STN_NO: int, YEARMODA: date ... 3 more fields]\n",
       "stationList: org.apache.spark.sql.DataFrame = [STN_NO: string, COUNTRY_ABBR: string]\n",
       "countryList: org.apache.spark.sql.DataFrame = [COUNTRY_ABBR: string, COUNTRY_FULL: string]\n"
      ]
     },
     "execution_count": 3,
     "metadata": {},
     "output_type": "execute_result"
    }
   ],
   "source": [
    "// Load files to DataFrame\n",
    "val weather = spark.read\n",
    "                .format(\"csv\")\n",
    "                .option(\"header\", true)\n",
    "                .option(\"delimiter\", \",\")\n",
    "                .option(\"dateFormat\", \"yyyyMMdd\")\n",
    "                .schema(customSchema)\n",
    "                .load(\"data/2019\")\n",
    "                .select(\"STN---\", \"YEARMODA\", \"TEMP\", \"WDSP\", \"FRSHTT\")\n",
    "                .withColumnRenamed(\"STN---\", \"STN_NO\")\n",
    "\n",
    "val stationList = spark.read\n",
    "                .option(\"header\", true)\n",
    "                .csv(\"stationlist.csv\")\n",
    "\n",
    "val countryList = spark.read\n",
    "                .option(\"header\", true)\n",
    "                .csv(\"countrylist.csv\")"
   ]
  },
  {
   "cell_type": "code",
   "execution_count": 4,
   "id": "assigned-president",
   "metadata": {},
   "outputs": [
    {
     "name": "stdout",
     "output_type": "stream",
     "text": [
      "root\n",
      " |-- STN_NO: integer (nullable = true)\n",
      " |-- YEARMODA: date (nullable = true)\n",
      " |-- TEMP: double (nullable = true)\n",
      " |-- WDSP: double (nullable = true)\n",
      " |-- FRSHTT: string (nullable = true)\n",
      "\n"
     ]
    }
   ],
   "source": [
    "// Show schemas and sample data\n",
    "weather.printSchema()\n",
    "// stationList.printSchema()\n",
    "// countryList.printSchema()\n",
    "// weather.show(2, false)\n",
    "// stationList.show(2, false)\n",
    "// countryList.show(2, false)\n"
   ]
  },
  {
   "cell_type": "code",
   "execution_count": 5,
   "id": "local-armor",
   "metadata": {},
   "outputs": [
    {
     "data": {
      "text/plain": [
       "stationCountry: org.apache.spark.sql.Dataset[org.apache.spark.sql.Row] = [STN_NO: string, COUNTRY_FULL: string]\n"
      ]
     },
     "execution_count": 5,
     "metadata": {},
     "output_type": "execute_result"
    }
   ],
   "source": [
    "// Prepare station - country DF\n",
    "val stationCountry = stationList.join(countryList, stationList(\"COUNTRY_ABBR\") === countryList(\"COUNTRY_ABBR\"))\n",
    "            .select(\"STN_NO\", \"COUNTRY_FULL\")\n",
    "            .cache()"
   ]
  },
  {
   "cell_type": "code",
   "execution_count": 6,
   "id": "female-samoa",
   "metadata": {},
   "outputs": [
    {
     "name": "stdout",
     "output_type": "stream",
     "text": [
      "+------------+-----------------+\n",
      "|COUNTRY_FULL|         avg_temp|\n",
      "+------------+-----------------+\n",
      "|    DJIBOUTI|90.06114457831325|\n",
      "+------------+-----------------+\n",
      "\n"
     ]
    },
    {
     "data": {
      "text/plain": [
       "stationTempDF: org.apache.spark.sql.Dataset[org.apache.spark.sql.Row] = [STN_NO: int, TEMP: double]\n",
       "countryTempDF: org.apache.spark.sql.Dataset[org.apache.spark.sql.Row] = [STN_NO: int, TEMP: double ... 2 more fields]\n",
       "maxMeanTemp: Unit = ()\n"
      ]
     },
     "execution_count": 6,
     "metadata": {},
     "output_type": "execute_result"
    }
   ],
   "source": [
    "/* \n",
    "\n",
    "Q1: Which country had the hottest average mean temperature over the year? \n",
    "\n",
    "*/\n",
    "\n",
    "val stationTempDF = weather.select(\"STN_NO\", \"TEMP\")\n",
    "                            .cache()\n",
    "\n",
    "val countryTempDF = stationTempDF.join(stationCountry, stationTempDF(\"STN_NO\") === stationCountry(\"STN_NO\"))\n",
    "                                    .cache()\n",
    "\n",
    "val maxMeanTemp = countryTempDF.select(\"COUNTRY_FULL\", \"TEMP\")\n",
    "        .filter($\"TEMP\" < 9999.9)\n",
    "        .groupBy(\"COUNTRY_FULL\")\n",
    "        .agg(avg(\"TEMP\").as(\"avg_temp\"))\n",
    "        .orderBy(desc(\"avg_temp\"))\n",
    "        .limit(1)\n",
    "        .cache()\n",
    "        .show\n"
   ]
  },
  {
   "cell_type": "code",
   "execution_count": 7,
   "id": "monetary-exclusive",
   "metadata": {},
   "outputs": [
    {
     "name": "stdout",
     "output_type": "stream",
     "text": [
      "+--------------+\n",
      "|  COUNTRY_FULL|\n",
      "+--------------+\n",
      "|         JAPAN|\n",
      "|        CANADA|\n",
      "|CAYMAN ISLANDS|\n",
      "|         INDIA|\n",
      "|         ITALY|\n",
      "| UNITED STATES|\n",
      "|         GHANA|\n",
      "+--------------+\n",
      "\n"
     ]
    },
    {
     "data": {
      "text/plain": [
       "stationFRSHTTDF: org.apache.spark.sql.Dataset[org.apache.spark.sql.Row] = [STN_NO: int, YEARMODA: date ... 1 more field]\n",
       "countryTempDF: org.apache.spark.sql.Dataset[org.apache.spark.sql.Row] = [STN_NO: int, YEARMODA: date ... 3 more fields]\n"
      ]
     },
     "execution_count": 7,
     "metadata": {},
     "output_type": "execute_result"
    }
   ],
   "source": [
    "/* \n",
    "\n",
    "Q2: Which country had the most consecutive days of tornadoes/funnel cloud formations?\n",
    "\n",
    "*/\n",
    "\n",
    "\n",
    "val stationFRSHTTDF = weather.select(\"STN_NO\", \"YEARMODA\", \"FRSHTT\")\n",
    "                                .cache()\n",
    "\n",
    "val countryTempDF = stationFRSHTTDF.join(stationCountry, stationFRSHTTDF(\"STN_NO\") === stationCountry(\"STN_NO\"))\n",
    "                                    .cache()\n",
    "\n",
    "countryTempDF.createOrReplaceTempView(\"countryTemp\")\n",
    "\n",
    "spark.sql(\"\"\"WITH country_date_of_year AS (\n",
    "                SELECT DISTINCT COUNTRY_FULL, \n",
    "                    YEARMODA, \n",
    "                    DAYOFYEAR(YEARMODA) AS DATEOFYEAR \n",
    "                FROM countryTemp\n",
    "                WHERE FRSHTT % 10 = 1\n",
    "                AND COUNTRY_FULL IS NOT NULL\n",
    "                ORDER BY COUNTRY_FULL, YEARMODA \n",
    "            ), country_group AS (\n",
    "                SELECT COUNTRY_FULL,\n",
    "                    DATEOFYEAR - ROW_NUMBER() OVER (PARTITION BY COUNTRY_FULL ORDER BY DATEOFYEAR) AS grp\n",
    "                FROM country_date_of_year\n",
    "            ) , count_group AS (\n",
    "                SELECT COUNTRY_FULL, grp, COUNT(*) AS group_count\n",
    "                FROM country_group\n",
    "                GROUP BY COUNTRY_FULL, grp\n",
    "            ) SELECT DISTINCT COUNTRY_FULL\n",
    "                FROM count_group \n",
    "                WHERE group_count IN (SELECT max(group_count) FROM count_group)\n",
    "                \"\"\").show"
   ]
  },
  {
   "cell_type": "code",
   "execution_count": 8,
   "id": "excessive-scottish",
   "metadata": {},
   "outputs": [
    {
     "name": "stdout",
     "output_type": "stream",
     "text": [
      "+------------+------------------+\n",
      "|COUNTRY_FULL|          avg_wdsp|\n",
      "+------------+------------------+\n",
      "|       ARUBA|15.975683060109283|\n",
      "+------------+------------------+\n",
      "\n"
     ]
    },
    {
     "data": {
      "text/plain": [
       "stationWDSPDF: org.apache.spark.sql.Dataset[org.apache.spark.sql.Row] = [STN_NO: int, WDSP: double]\n",
       "countryWDSPDF: org.apache.spark.sql.Dataset[org.apache.spark.sql.Row] = [STN_NO: int, WDSP: double ... 2 more fields]\n",
       "maxMeanTemp: Unit = ()\n"
      ]
     },
     "execution_count": 8,
     "metadata": {},
     "output_type": "execute_result"
    }
   ],
   "source": [
    "/* \n",
    "\n",
    "Q3: Which country had the second highest average mean wind speed over the year?\n",
    "\n",
    "*/\n",
    "\n",
    "val stationWDSPDF = weather.select(\"STN_NO\", \"WDSP\")\n",
    "                            .cache()\n",
    "\n",
    "val countryWDSPDF = stationWDSPDF.join(stationCountry, stationWDSPDF(\"STN_NO\") === stationCountry(\"STN_NO\"))\n",
    "                                    .cache()\n",
    "\n",
    "val maxMeanTemp = countryWDSPDF.select(\"COUNTRY_FULL\", \"WDSP\")\n",
    "        .filter($\"WDSP\" < 999.9)\n",
    "        .groupBy(\"COUNTRY_FULL\")\n",
    "        .agg(avg(\"WDSP\").as(\"avg_wdsp\"))\n",
    "        .orderBy(desc(\"avg_wdsp\"))\n",
    "        .limit(2)\n",
    "        .orderBy(asc(\"avg_wdsp\"))\n",
    "        .limit(1)\n",
    "        .cache()\n",
    "        .show\n"
   ]
  }
 ],
 "metadata": {
  "kernelspec": {
   "display_name": "spylon-kernel",
   "language": "scala",
   "name": "spylon-kernel"
  },
  "language_info": {
   "codemirror_mode": "text/x-scala",
   "file_extension": ".scala",
   "help_links": [
    {
     "text": "MetaKernel Magics",
     "url": "https://metakernel.readthedocs.io/en/latest/source/README.html"
    }
   ],
   "mimetype": "text/x-scala",
   "name": "scala",
   "pygments_lexer": "scala",
   "version": "0.4.1"
  }
 },
 "nbformat": 4,
 "nbformat_minor": 5
}
